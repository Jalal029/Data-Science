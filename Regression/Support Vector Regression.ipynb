{
 "cells": [
  {
   "cell_type": "markdown",
   "id": "naughty-newfoundland",
   "metadata": {},
   "source": [
    "SUPPORT VECTOR REGRESSION"
   ]
  },
  {
   "cell_type": "code",
   "execution_count": 2,
   "id": "disciplinary-communication",
   "metadata": {},
   "outputs": [],
   "source": [
    "import numpy as np\n",
    "import pandas as pd\n",
    "import matplotlib.pyplot as plt\n",
    "from sklearn.preprocessing import StandardScaler\n",
    "from sklearn.svm import SVR"
   ]
  },
  {
   "cell_type": "code",
   "execution_count": 3,
   "id": "constant-integral",
   "metadata": {},
   "outputs": [
    {
     "name": "stdout",
     "output_type": "stream",
     "text": [
      "              Posisi  Level     Gaji\n",
      "0   Business Analyst      1    45000\n",
      "1  Junior Consultant      2    50000\n",
      "2  Senior Consultant      3    60000\n",
      "3            Manager      4    80000\n",
      "4    Country Manager      5   110000\n",
      "5     Region Manager      6   150000\n",
      "6            Partner      7   200000\n",
      "7     Senior Partner      8   300000\n",
      "8            C-level      9   500000\n",
      "9                CEO     10  1000000\n"
     ]
    }
   ],
   "source": [
    "dataset = pd.read_csv('C:\\Posisi_gaji.csv')\n",
    "X       = dataset.iloc[:,1:2]\n",
    "y       = dataset.iloc[:,2:3]\n",
    "print(dataset)"
   ]
  },
  {
   "cell_type": "markdown",
   "id": "temporal-glasgow",
   "metadata": {},
   "source": [
    "FEATURE SCALING"
   ]
  },
  {
   "cell_type": "code",
   "execution_count": 4,
   "id": "accepted-distinction",
   "metadata": {},
   "outputs": [],
   "source": [
    "sc_X = StandardScaler()\n",
    "sc_y = StandardScaler()\n",
    "X    = sc_X.fit_transform(X)\n",
    "y    = sc_y.fit_transform(y)"
   ]
  },
  {
   "cell_type": "markdown",
   "id": "unexpected-michigan",
   "metadata": {},
   "source": [
    "FITTING SVR ke DATASET"
   ]
  },
  {
   "cell_type": "code",
   "execution_count": 5,
   "id": "ecological-conversation",
   "metadata": {},
   "outputs": [
    {
     "name": "stderr",
     "output_type": "stream",
     "text": [
      "C:\\Users\\LENOVO\\AppData\\Local\\Packages\\PythonSoftwareFoundation.Python.3.8_qbz5n2kfra8p0\\LocalCache\\local-packages\\Python38\\site-packages\\sklearn\\utils\\validation.py:72: DataConversionWarning: A column-vector y was passed when a 1d array was expected. Please change the shape of y to (n_samples, ), for example using ravel().\n",
      "  return f(**kwargs)\n"
     ]
    },
    {
     "data": {
      "text/plain": [
       "SVR()"
      ]
     },
     "execution_count": 5,
     "metadata": {},
     "output_type": "execute_result"
    }
   ],
   "source": [
    "regressor = SVR(kernel = 'rbf')\n",
    "regressor.fit(X,y)"
   ]
  },
  {
   "cell_type": "markdown",
   "id": "thick-softball",
   "metadata": {},
   "source": [
    "VISUALISASI HASIL SVR"
   ]
  },
  {
   "cell_type": "code",
   "execution_count": 6,
   "id": "quality-explosion",
   "metadata": {},
   "outputs": [
    {
     "data": {
      "image/png": "[encoded data removed]",
      "text/plain": [
       "<Figure size 432x288 with 1 Axes>"
      ]
     },
     "metadata": {
      "needs_background": "light"
     },
     "output_type": "display_data"
    }
   ],
   "source": [
    "plt.scatter(X,y,color='salmon')\n",
    "plt.plot   (X,regressor.predict(X), color='black')\n",
    "plt.title  ('', fontsize=16)\n",
    "plt.xlabel ('Tingkat posisi')\n",
    "plt.ylabel ('Gaji')\n",
    "plt.show   ()"
   ]
  },
  {
   "cell_type": "markdown",
   "id": "biological-appreciation",
   "metadata": {},
   "source": [
    "MEMPREDIKSI HASIL"
   ]
  },
  {
   "cell_type": "code",
   "execution_count": 24,
   "id": "rotary-thailand",
   "metadata": {},
   "outputs": [],
   "source": [
    "#y_pred = regressor.predict(6.5)\n",
    "#y_pred = regressor.predict(sc_X.transform(6.5))\n",
    "#y_pred = regressor.predict(sc_X.transform(np.array([6.5])))\n",
    "#y_pred = sc_y.inverse_transform(regressor.predict(sc_X.transform(np.array([6.5]))))"
   ]
  },
  {
   "cell_type": "code",
   "execution_count": 7,
   "id": "corrected-government",
   "metadata": {},
   "outputs": [
    {
     "data": {
      "image/png": "[encoded data removed]",
      "text/plain": [
       "<Figure size 432x288 with 1 Axes>"
      ]
     },
     "metadata": {
      "needs_background": "light"
     },
     "output_type": "display_data"
    }
   ],
   "source": [
    "X_grid  = np.arange(min(X), max(X), 0.01)\n",
    "X_grid  = X_grid.reshape((len(X_grid),1))\n",
    "plt.scatter(X, y, color = 'blue')\n",
    "plt.plot(X_grid, regressor.predict(X_grid), color='red')\n",
    "plt.title('',fontsize=18)\n",
    "plt.xlabel('Tingkat posisi')\n",
    "plt.ylabel('Gaji')\n",
    "plt.show()"
   ]
  },
  {
   "cell_type": "code",
   "execution_count": null,
   "id": "ordered-security",
   "metadata": {},
   "outputs": [],
   "source": []
  }
 ],
 "metadata": {
  "kernelspec": {
   "display_name": "Python 3",
   "language": "python",
   "name": "python3"
  },
  "language_info": {
   "codemirror_mode": {
    "name": "ipython",
    "version": 3
   },
   "file_extension": ".py",
   "mimetype": "text/x-python",
   "name": "python",
   "nbconvert_exporter": "python",
   "pygments_lexer": "ipython3",
   "version": "3.8.7"
  }
 },
 "nbformat": 4,
 "nbformat_minor": 5
}
